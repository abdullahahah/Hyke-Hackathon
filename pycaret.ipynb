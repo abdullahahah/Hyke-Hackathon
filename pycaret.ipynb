{
  "nbformat": 4,
  "nbformat_minor": 0,
  "metadata": {
    "colab": {
      "provenance": []
    },
    "kernelspec": {
      "name": "python3",
      "display_name": "Python 3"
    },
    "language_info": {
      "name": "python"
    }
  },
  "cells": [
    {
      "cell_type": "code",
      "source": [
        "pip install pycaret"
      ],
      "metadata": {
        "id": "3XHjhl4jPmu9"
      },
      "execution_count": null,
      "outputs": []
    },
    {
      "cell_type": "code",
      "source": [
        "# load sample dataset\n",
        "from pycaret.datasets import get_data\n",
        "import pandas as pd\n",
        "\n",
        "raw_data = pd.read_csv('supermarketedit.csv')\n",
        "raw_data.head()\n",
        "\n"
      ],
      "metadata": {
        "id": "caZowhRUffcz"
      },
      "execution_count": null,
      "outputs": []
    },
    {
      "cell_type": "code",
      "source": [
        "raw_data.tail()"
      ],
      "metadata": {
        "id": "kJ4YH_-9AsA1"
      },
      "execution_count": null,
      "outputs": []
    },
    {
      "cell_type": "code",
      "source": [
        "data = pd.read_csv(\"supermarket2.csv\")\n",
        "data.head()"
      ],
      "metadata": {
        "id": "8ddUbbyHAh85"
      },
      "execution_count": null,
      "outputs": []
    },
    {
      "cell_type": "code",
      "source": [
        "data.tail()"
      ],
      "metadata": {
        "id": "5uqMhisAAw0i"
      },
      "execution_count": null,
      "outputs": []
    },
    {
      "cell_type": "code",
      "source": [
        "new_data = pd.read_csv('new_data.csv')\n",
        "new_data.head()"
      ],
      "metadata": {
        "id": "5XhZY6HspkCD"
      },
      "execution_count": null,
      "outputs": []
    },
    {
      "cell_type": "code",
      "source": [
        "import pandas as pd\n",
        "from pycaret.regression import *\n",
        "from pycaret.regression import compare_models\n",
        "\n",
        "\n",
        "\n",
        "# loading the edited data\n",
        "data = pd.read_csv('supermarket2.csv')\n",
        "\n",
        "# setup\n",
        "regression_setup = setup(data=data, target='Sales', train_size=0.8)\n",
        "\n",
        "\n",
        "# Selecting what models to be included\n",
        "models_to_include = ['lr','omp']\n",
        "\n",
        "# Compare the specified models\n",
        "selected_models = compare_models(include=models_to_include, fold=5, sort='MAE')\n",
        "\n",
        "# Training the model on the complete data set\n",
        "final_model = create_model(selected_models)\n",
        "\n",
        "# Make predictions on new data\n",
        "new_data = pd.read_csv('new_data.csv')  # Assuming you have a new dataset\n",
        "new_data.head()\n",
        "predictions = predict_model(final_model, data=new_data)\n",
        "\n",
        "# View the predictions\n",
        "print(predictions)\n",
        "\n",
        "\n",
        "evaluate_model(final_model)\n"
      ],
      "metadata": {
        "id": "pVtOQufNqefT"
      },
      "execution_count": null,
      "outputs": []
    }
  ]
}